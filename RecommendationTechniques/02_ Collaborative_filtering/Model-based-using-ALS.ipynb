{
 "cells": [
  {
   "cell_type": "markdown",
   "id": "9a131514",
   "metadata": {},
   "source": [
    "# Sử dụng ALS để đánh giá"
   ]
  },
  {
   "cell_type": "code",
   "execution_count": 32,
   "id": "855933a4",
   "metadata": {},
   "outputs": [],
   "source": [
    "from pyspark.sql import SparkSession\n",
    "spark = SparkSession.builder.appName('recommendation').getOrCreate()"
   ]
  },
  {
   "cell_type": "code",
   "execution_count": 42,
   "id": "97105db4",
   "metadata": {},
   "outputs": [],
   "source": [
    "from pyspark.ml.evaluation import RegressionEvaluator\n",
    "from pyspark.ml.recommendation import ALS"
   ]
  },
  {
   "cell_type": "markdown",
   "id": "990a0379",
   "metadata": {},
   "source": [
    "# Tập dữ liệu movieLen"
   ]
  },
  {
   "cell_type": "code",
   "execution_count": 51,
   "id": "d3c9bb60",
   "metadata": {},
   "outputs": [
    {
     "name": "stdout",
     "output_type": "stream",
     "text": [
      "root\n",
      " |-- userId: integer (nullable = true)\n",
      " |-- movieId: integer (nullable = true)\n",
      " |-- rating: double (nullable = true)\n",
      " |-- timestamp: integer (nullable = true)\n",
      "\n"
     ]
    }
   ],
   "source": [
    "data = spark.read.csv('C:/MainProgramLearning/TLCN/ml-latest-small/ratings.csv', inferSchema=True, header=True)\n",
    "data.printSchema()\n"
   ]
  },
  {
   "cell_type": "code",
   "execution_count": 52,
   "id": "320d8f4d",
   "metadata": {},
   "outputs": [
    {
     "name": "stdout",
     "output_type": "stream",
     "text": [
      "+------+-------+------+---------+\n",
      "|userId|movieId|rating|timestamp|\n",
      "+------+-------+------+---------+\n",
      "|     0|      0|     0|        0|\n",
      "+------+-------+------+---------+\n",
      "\n"
     ]
    }
   ],
   "source": [
    "## đếm các giá trị null\n",
    "from pyspark.sql.functions import col,sum\n",
    "data.select(*(sum(col(c).isNull().cast(\"int\")).alias(c) for c in data.columns)).show()"
   ]
  },
  {
   "cell_type": "code",
   "execution_count": 53,
   "id": "e2c8026d",
   "metadata": {},
   "outputs": [
    {
     "name": "stdout",
     "output_type": "stream",
     "text": [
      "+------+-------+------+---------+\n",
      "|userId|movieId|rating|timestamp|\n",
      "+------+-------+------+---------+\n",
      "|   0.0|    0.0|   0.0|      0.0|\n",
      "+------+-------+------+---------+\n",
      "\n"
     ]
    }
   ],
   "source": [
    "from pyspark.sql.functions import lit, col\n",
    "\n",
    "rows = data.count()\n",
    "summary = data.describe().filter(col(\"summary\") == \"count\")\n",
    "summary.select(*((lit(rows)-col(c)).alias(c) for c in data.columns)).show()"
   ]
  },
  {
   "cell_type": "code",
   "execution_count": 54,
   "id": "82bb9b24",
   "metadata": {},
   "outputs": [
    {
     "name": "stdout",
     "output_type": "stream",
     "text": [
      "No. of row: 100836\n",
      "+------+-------+------+---------+\n",
      "|userId|movieId|rating|timestamp|\n",
      "+------+-------+------+---------+\n",
      "|     1|      1|   4.0|964982703|\n",
      "|     1|      3|   4.0|964981247|\n",
      "|     1|      6|   4.0|964982224|\n",
      "|     1|     47|   5.0|964983815|\n",
      "|     1|     50|   5.0|964982931|\n",
      "+------+-------+------+---------+\n",
      "only showing top 5 rows\n",
      "\n"
     ]
    }
   ],
   "source": [
    "## đếm số dòng dữ liệu\n",
    "print('No. of row: %d' % data.count())\n",
    "data.show(5)"
   ]
  },
  {
   "cell_type": "code",
   "execution_count": 55,
   "id": "7d031dd8",
   "metadata": {},
   "outputs": [
    {
     "name": "stdout",
     "output_type": "stream",
     "text": [
      "+-------+------------------+----------------+------------------+--------------------+\n",
      "|summary|            userId|         movieId|            rating|           timestamp|\n",
      "+-------+------------------+----------------+------------------+--------------------+\n",
      "|  count|            100836|          100836|            100836|              100836|\n",
      "|   mean|326.12756356856676|19435.2957177992| 3.501556983616962|1.2059460873684695E9|\n",
      "| stddev| 182.6184914635004|35530.9871987003|1.0425292390606342|2.1626103599513078E8|\n",
      "|    min|                 1|               1|               0.5|           828124615|\n",
      "|    max|               610|          193609|               5.0|          1537799250|\n",
      "+-------+------------------+----------------+------------------+--------------------+\n",
      "\n"
     ]
    }
   ],
   "source": [
    "# count, mean, std, min & max\n",
    "data.describe().show()"
   ]
  },
  {
   "cell_type": "code",
   "execution_count": 57,
   "id": "5d045cad",
   "metadata": {},
   "outputs": [],
   "source": [
    "## chia tập dữ liệu thành train và test với 80% cho train và 20% cho test 1 cách ngẫu nhiên\n",
    "train_data, test_data = data.randomSplit([0.8, 0.2])\n"
   ]
  },
  {
   "cell_type": "markdown",
   "id": "5fdc04cd",
   "metadata": {},
   "source": [
    "## Xây dựng mô hình trên tập dữ liệu train"
   ]
  },
  {
   "cell_type": "code",
   "execution_count": 58,
   "id": "4ae6143b",
   "metadata": {},
   "outputs": [],
   "source": [
    "## xây dựng mô hình gợi ý trên tập dữ liệu train\n",
    "als = ALS(maxIter=10, regParam=0.1, rank=8, nonnegative=True, coldStartStrategy=\"drop\",\\\n",
    "          userCol='userId', itemCol='movieId', ratingCol='rating')\n",
    "model = als.fit(train_data)"
   ]
  },
  {
   "cell_type": "code",
   "execution_count": 59,
   "id": "7bd4b3b9",
   "metadata": {},
   "outputs": [
    {
     "name": "stdout",
     "output_type": "stream",
     "text": [
      "Factorized user matrix with rank = 8\n",
      "+---+--------------------+\n",
      "| id|            features|\n",
      "+---+--------------------+\n",
      "| 10|[0.016918354, 0.1...|\n",
      "| 20|[1.1431886, 1.172...|\n",
      "| 30|[0.3461848, 1.051...|\n",
      "| 40|[1.0088524, 0.923...|\n",
      "| 50|[0.9413194, 0.862...|\n",
      "+---+--------------------+\n",
      "only showing top 5 rows\n",
      "\n",
      "--------------------------------------------------\n",
      "Factorized item matrix with rank = 8\n",
      "+---+--------------------+\n",
      "| id|            features|\n",
      "+---+--------------------+\n",
      "| 10|[0.24432674, 0.65...|\n",
      "| 20|[1.0726507, 0.567...|\n",
      "| 30|[1.0779108, 0.872...|\n",
      "| 50|[0.9589908, 1.095...|\n",
      "| 60|[0.5851913, 0.483...|\n",
      "+---+--------------------+\n",
      "only showing top 5 rows\n",
      "\n"
     ]
    }
   ],
   "source": [
    "print('Factorized user matrix with rank = %d' % model.rank)\n",
    "model.userFactors.show(5)\n",
    "\n",
    "print('-'*50)\n",
    "\n",
    "print('Factorized item matrix with rank = %d' % model.rank)\n",
    "model.itemFactors.show(5)"
   ]
  },
  {
   "cell_type": "code",
   "execution_count": 60,
   "id": "7a09a1dd",
   "metadata": {},
   "outputs": [
    {
     "name": "stdout",
     "output_type": "stream",
     "text": [
      "Recommended top users (e.g. 1 top user) for all items with the corresponding predicted ratings:\n",
      "+-------+------------------+\n",
      "|movieId|   recommendations|\n",
      "+-------+------------------+\n",
      "|     12|[{406, 4.6147637}]|\n",
      "|     26| [{43, 4.8257837}]|\n",
      "|     27| [{492, 4.630498}]|\n",
      "|     28| [{236, 5.897657}]|\n",
      "|     31|[{543, 4.7701597}]|\n",
      "+-------+------------------+\n",
      "only showing top 5 rows\n",
      "\n",
      "--------------------------------------------------\n",
      "Recommended top items (e.g. 1 top item) for all users with the corresponding predicted ratings:\n",
      "+------+--------------------+\n",
      "|userId|     recommendations|\n",
      "+------+--------------------+\n",
      "|     1|[{148881, 5.98182...|\n",
      "|     2|[{131724, 4.88258...|\n",
      "|     3| [{86320, 5.719838}]|\n",
      "|     4| [{6650, 5.0799174}]|\n",
      "|     5| [{6201, 4.9934406}]|\n",
      "+------+--------------------+\n",
      "only showing top 5 rows\n",
      "\n"
     ]
    }
   ],
   "source": [
    "## gợi ý cho top người dùng các bộ phim\n",
    "print('Recommended top users (e.g. 1 top user) for all items with the corresponding predicted ratings:')\n",
    "model.recommendForAllItems(1).show(5)\n",
    "\n",
    "print('-'*50)\n",
    "### gợi ý các top các bộ phim cho người dùng\n",
    "print('Recommended top items (e.g. 1 top item) for all users with the corresponding predicted ratings:')\n",
    "model.recommendForAllUsers(1).show(5)"
   ]
  },
  {
   "cell_type": "markdown",
   "id": "41dbda14",
   "metadata": {},
   "source": [
    "# Dự đoán trên tập test"
   ]
  },
  {
   "cell_type": "code",
   "execution_count": 61,
   "id": "a02deeb1",
   "metadata": {},
   "outputs": [
    {
     "name": "stdout",
     "output_type": "stream",
     "text": [
      "+------+-------+------+----------+----------+\n",
      "|userId|movieId|rating| timestamp|prediction|\n",
      "+------+-------+------+----------+----------+\n",
      "|   580|   3175|   2.5|1167792674| 3.5045094|\n",
      "|   580|  44022|   3.5|1167792560| 2.9032965|\n",
      "|   368|   2122|   2.0| 971277319| 1.9476635|\n",
      "|   115|   1645|   4.0| 957648208| 3.3740087|\n",
      "|   385|    471|   4.0| 850766697| 2.6788354|\n",
      "|   159|   1088|   4.0|1508641161| 3.5256314|\n",
      "|   606|   1580|   2.5|1171310310| 3.1264918|\n",
      "|   606|  44022|   4.0|1259446275|  2.721818|\n",
      "|    91|   3175|   3.5|1112713784|  3.396537|\n",
      "|   230|   1580|   3.5|1196304359| 2.9356136|\n",
      "|   493|   2366|   2.0|1001562846| 3.2491574|\n",
      "|   233|   1580|   3.0|1529334057| 2.7495682|\n",
      "|   246|   1645|   4.0|1354125095| 3.8889596|\n",
      "|   599|    833|   1.5|1519330029| 1.3695393|\n",
      "|   599|   1088|   2.5|1498515232| 2.4884472|\n",
      "|   599|   7340|   2.0|1519140628| 2.4902742|\n",
      "|   111|   4900|   4.0|1516153877| 1.1239411|\n",
      "|   140|   3175|   2.5|1075154390| 3.5865796|\n",
      "|   177|   1580|   3.5|1435890494|  3.270348|\n",
      "|   177|   2366|   3.0|1435535156| 3.2722256|\n",
      "+------+-------+------+----------+----------+\n",
      "only showing top 20 rows\n",
      "\n"
     ]
    }
   ],
   "source": [
    "predictions = model.transform(test_data)\n",
    "predictions.show()"
   ]
  },
  {
   "cell_type": "code",
   "execution_count": 62,
   "id": "23a0f50c",
   "metadata": {},
   "outputs": [
    {
     "name": "stdout",
     "output_type": "stream",
     "text": [
      "root\n",
      " |-- userId: integer (nullable = true)\n",
      " |-- movieId: integer (nullable = true)\n",
      " |-- rating: double (nullable = true)\n",
      " |-- timestamp: integer (nullable = true)\n",
      " |-- prediction: float (nullable = false)\n",
      "\n"
     ]
    }
   ],
   "source": [
    "predictions.printSchema()"
   ]
  },
  {
   "cell_type": "markdown",
   "id": "c842a218",
   "metadata": {},
   "source": [
    "# Đánh giá mô hình"
   ]
  },
  {
   "cell_type": "code",
   "execution_count": 63,
   "id": "34f83aa9",
   "metadata": {},
   "outputs": [
    {
     "name": "stdout",
     "output_type": "stream",
     "text": [
      "Root mean squared error of the test_data: 0.8760\n"
     ]
    }
   ],
   "source": [
    "# Kiểm tra root squared error\n",
    "evaluator = RegressionEvaluator(metricName='rmse', predictionCol='prediction', labelCol='rating')\n",
    "rmse = evaluator.evaluate(predictions)\n",
    "print('Root mean squared error of the test_data: %.4f' % rmse)"
   ]
  },
  {
   "cell_type": "markdown",
   "id": "492d1c75",
   "metadata": {},
   "source": [
    "RMSE mô tả mức độ lỗi của cột xếp hạng."
   ]
  },
  {
   "cell_type": "code",
   "execution_count": null,
   "id": "eab1afce",
   "metadata": {},
   "outputs": [],
   "source": []
  }
 ],
 "metadata": {
  "kernelspec": {
   "display_name": "Python 3.10.6 64-bit",
   "language": "python",
   "name": "python3"
  },
  "language_info": {
   "codemirror_mode": {
    "name": "ipython",
    "version": 3
   },
   "file_extension": ".py",
   "mimetype": "text/x-python",
   "name": "python",
   "nbconvert_exporter": "python",
   "pygments_lexer": "ipython3",
   "version": "3.10.6"
  },
  "vscode": {
   "interpreter": {
    "hash": "f1660623f6089e6a467a992bba16b9234d8da736ab33686720cce7e6c76ca766"
   }
  }
 },
 "nbformat": 4,
 "nbformat_minor": 5
}
